{
  "cells": [
    {
      "cell_type": "markdown",
      "metadata": {
        "id": "view-in-github",
        "colab_type": "text"
      },
      "source": [
        "<a href=\"https://colab.research.google.com/github/dcmoura/ipython-spyql/blob/master/examples/writers.ipynb\" target=\"_parent\"><img src=\"https://colab.research.google.com/assets/colab-badge.svg\" alt=\"Open In Colab\"/></a>"
      ]
    },
    {
      "cell_type": "code",
      "execution_count": null,
      "metadata": {
        "jupyter": {
          "outputs_hidden": false
        },
        "id": "sjovywlgYaRb"
      },
      "outputs": [],
      "source": [
        "%load_ext sql"
      ]
    },
    {
      "cell_type": "code",
      "execution_count": null,
      "metadata": {
        "jupyter": {
          "outputs_hidden": false
        },
        "colab": {
          "base_uri": "https://localhost:8080/",
          "height": 37
        },
        "id": "YLgN08tEYaRf",
        "outputId": "13fdedf0-3df1-4a99-aff6-b8ee07b2397c"
      },
      "outputs": [
        {
          "output_type": "execute_result",
          "data": {
            "application/vnd.google.colaboratory.intrinsic+json": {
              "type": "string"
            },
            "text/plain": [
              "'Connected: @None'"
            ]
          },
          "metadata": {},
          "execution_count": 2
        }
      ],
      "source": [
        "%sql sqlite://"
      ]
    },
    {
      "cell_type": "code",
      "execution_count": null,
      "metadata": {
        "jupyter": {
          "outputs_hidden": false
        },
        "colab": {
          "base_uri": "https://localhost:8080/"
        },
        "id": "vkSczOGsYaRg",
        "outputId": "99792747-78a7-43fd-cd49-2b806ec91626"
      },
      "outputs": [
        {
          "output_type": "stream",
          "name": "stdout",
          "text": [
            " * sqlite://\n",
            "(sqlite3.OperationalError) table writer already exists\n",
            "[SQL: CREATE TABLE writer (first_name, last_name, year_of_death);]\n",
            "(Background on this error at: https://sqlalche.me/e/14/e3q8)\n"
          ]
        }
      ],
      "source": [
        "%%sql\n",
        "CREATE TABLE writer (first_name, last_name, year_of_death);\n",
        "INSERT INTO writer VALUES ('William', 'Shakespeare', 1616);\n",
        "INSERT INTO writer VALUES ('Bertold', 'Brecht', 1956);"
      ]
    },
    {
      "cell_type": "code",
      "execution_count": null,
      "metadata": {
        "jupyter": {
          "outputs_hidden": false
        },
        "colab": {
          "base_uri": "https://localhost:8080/",
          "height": 116
        },
        "id": "seNcgp1RYaRh",
        "outputId": "da2e13b1-ca4b-4643-9bbf-46203027513d"
      },
      "outputs": [
        {
          "output_type": "stream",
          "name": "stdout",
          "text": [
            " * sqlite://\n",
            "Done.\n"
          ]
        },
        {
          "output_type": "execute_result",
          "data": {
            "text/html": [
              "<table>\n",
              "    <thead>\n",
              "        <tr>\n",
              "            <th>first_name</th>\n",
              "            <th>last_name</th>\n",
              "            <th>year_of_death</th>\n",
              "        </tr>\n",
              "    </thead>\n",
              "    <tbody>\n",
              "        <tr>\n",
              "            <td>William</td>\n",
              "            <td>Shakespeare</td>\n",
              "            <td>1616</td>\n",
              "        </tr>\n",
              "        <tr>\n",
              "            <td>Bertold</td>\n",
              "            <td>Brecht</td>\n",
              "            <td>1956</td>\n",
              "        </tr>\n",
              "    </tbody>\n",
              "</table>"
            ],
            "text/plain": [
              "[('William', 'Shakespeare', 1616), ('Bertold', 'Brecht', 1956)]"
            ]
          },
          "metadata": {},
          "execution_count": 7
        }
      ],
      "source": [
        "%sql select * from writer"
      ]
    },
    {
      "cell_type": "code",
      "execution_count": null,
      "metadata": {
        "jupyter": {
          "outputs_hidden": false
        },
        "colab": {
          "base_uri": "https://localhost:8080/"
        },
        "id": "zkul54gNYaRh",
        "outputId": "3a81e33c-d614-44d4-8523-164d23d46a62"
      },
      "outputs": [
        {
          "output_type": "stream",
          "name": "stdout",
          "text": [
            " * sqlite://\n",
            "Done.\n",
            "Returning data to local variable writers\n"
          ]
        }
      ],
      "source": [
        "%%sql writers << select first_name, year_of_death\n",
        "from writer"
      ]
    },
    {
      "cell_type": "code",
      "execution_count": null,
      "metadata": {
        "id": "XL3KCZsGYaRi",
        "outputId": "610a0882-f613-4d15-e6b9-825f31856884"
      },
      "outputs": [
        {
          "data": {
            "text/html": [
              "<table>\n",
              "    <tr>\n",
              "        <th>first_name</th>\n",
              "        <th>year_of_death</th>\n",
              "    </tr>\n",
              "    <tr>\n",
              "        <td>William</td>\n",
              "        <td>1616</td>\n",
              "    </tr>\n",
              "    <tr>\n",
              "        <td>Bertold</td>\n",
              "        <td>1956</td>\n",
              "    </tr>\n",
              "</table>"
            ],
            "text/plain": [
              "[('William', 1616), ('Bertold', 1956)]"
            ]
          },
          "execution_count": 6,
          "metadata": {},
          "output_type": "execute_result"
        }
      ],
      "source": [
        "writers"
      ]
    },
    {
      "cell_type": "code",
      "execution_count": null,
      "metadata": {
        "id": "cpQXmX1UYaRi"
      },
      "outputs": [],
      "source": [
        "var = 'last_name'"
      ]
    },
    {
      "cell_type": "code",
      "execution_count": null,
      "metadata": {
        "id": "mHBsmOmoYaRj",
        "outputId": "8d1f1438-2355-4ce7-bd30-1cac9ef51456"
      },
      "outputs": [
        {
          "name": "stdout",
          "output_type": "stream",
          "text": [
            " * sqlite://\n",
            "Done.\n"
          ]
        },
        {
          "data": {
            "text/html": [
              "<table>\n",
              "    <tr>\n",
              "        <th>first_name</th>\n",
              "        <th>last_name</th>\n",
              "        <th>year_of_death</th>\n",
              "    </tr>\n",
              "    <tr>\n",
              "        <td>Bertold</td>\n",
              "        <td>Brecht</td>\n",
              "        <td>1956</td>\n",
              "    </tr>\n",
              "</table>"
            ],
            "text/plain": [
              "[('Bertold', 'Brecht', 1956)]"
            ]
          },
          "execution_count": 8,
          "metadata": {},
          "output_type": "execute_result"
        }
      ],
      "source": [
        "%sql select * from writer where {var} = 'Brecht'"
      ]
    },
    {
      "cell_type": "code",
      "execution_count": null,
      "metadata": {
        "id": "w5OoVVj5YaRk",
        "outputId": "743dc135-bcd9-4941-eb0e-fac3c766b6c4"
      },
      "outputs": [
        {
          "name": "stdout",
          "output_type": "stream",
          "text": [
            " * sqlite://\n",
            "Done.\n"
          ]
        },
        {
          "data": {
            "text/html": [
              "<table>\n",
              "    <tr>\n",
              "        <th>first_name</th>\n",
              "        <th>last_name</th>\n",
              "        <th>year_of_death</th>\n",
              "    </tr>\n",
              "    <tr>\n",
              "        <td>Bertold</td>\n",
              "        <td>Brecht</td>\n",
              "        <td>1956</td>\n",
              "    </tr>\n",
              "</table>"
            ],
            "text/plain": [
              "[('Bertold', 'Brecht', 1956)]"
            ]
          },
          "execution_count": 9,
          "metadata": {},
          "output_type": "execute_result"
        }
      ],
      "source": [
        "%%sql select * from writer \n",
        "where {var} = 'Brecht'"
      ]
    },
    {
      "cell_type": "code",
      "execution_count": 1,
      "metadata": {
        "colab": {
          "base_uri": "https://localhost:8080/"
        },
        "id": "Wto2_GsrYaRk",
        "outputId": "01cbcfa4-7660-41de-9a30-4d32a9d72060"
      },
      "outputs": [
        {
          "output_type": "execute_result",
          "data": {
            "text/plain": [
              "4"
            ]
          },
          "metadata": {},
          "execution_count": 1
        }
      ],
      "source": [
        "a = 1 + 3\n",
        "a"
      ]
    }
  ],
  "metadata": {
    "kernelspec": {
      "display_name": "Python 3",
      "language": "python",
      "name": "python3"
    },
    "language_info": {
      "codemirror_mode": {
        "name": "ipython",
        "version": 3
      },
      "file_extension": ".py",
      "mimetype": "text/x-python",
      "name": "python",
      "nbconvert_exporter": "python",
      "pygments_lexer": "ipython3",
      "version": "3.8.0"
    },
    "colab": {
      "name": "writers.ipynb",
      "provenance": [],
      "include_colab_link": true
    }
  },
  "nbformat": 4,
  "nbformat_minor": 0
}